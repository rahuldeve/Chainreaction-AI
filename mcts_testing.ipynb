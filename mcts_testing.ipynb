{
 "cells": [
  {
   "cell_type": "code",
   "execution_count": 1,
   "metadata": {},
   "outputs": [],
   "source": [
    "import random\n",
    "import math\n",
    "import numba\n",
    "from copy import deepcopy\n",
    "\n",
    "from chainreaction.game import *\n",
    "from chainreaction.positions import *\n",
    "from chainreaction.board import *\n",
    "from chainreaction.mcts import *\n",
    "from chainreaction.four_players import *"
   ]
  },
  {
   "cell_type": "code",
   "execution_count": 6,
   "metadata": {},
   "outputs": [],
   "source": [
    "w, h = 3, 3\n",
    "state = Board(w, h)\n",
    "state.place_atom(0, 0, FourPlayers.P1.value)\n",
    "state.place_atom(0, 2, FourPlayers.P2.value)\n",
    "state.place_atom(2, 0, FourPlayers.P34.value)\n",
    "state.place_atom(2, 2, FourPlayers.P34.value)"
   ]
  },
  {
   "cell_type": "code",
   "execution_count": 7,
   "metadata": {},
   "outputs": [],
   "source": [
    "def mcts_step(state):\n",
    "    start_player = FourPlayers.P1\n",
    "    # make sure we are calling the right type of mcts node\n",
    "    # maybe handle it in base mcts node class\n",
    "    root = MCTSNormalNode(state, parent=None, parent_action=None, player=start_player)\n",
    "    return None, root.best_action().parent_action"
   ]
  },
  {
   "cell_type": "code",
   "execution_count": 8,
   "metadata": {},
   "outputs": [
    {
     "data": {
      "text/plain": [
       "(1, 2)"
      ]
     },
     "execution_count": 8,
     "metadata": {},
     "output_type": "execute_result"
    }
   ],
   "source": [
    "player = FourPlayers.P1\n",
    "temp_player = player\n",
    "while True:\n",
    "    _, move = minimax_step(state.get_copy(), deepcopy(player), 0)\n",
    "    moves_count += 1\n",
    "    print(f'{player} placing on {move}')\n",
    "    state, player, utilities, terminal = game_step(state, player, move)\n",
    "    print(\"New State:\")\n",
    "    print(format_board(state))\n",
    "    if terminal and moves_count>4:\n",
    "        max_value = max(utilities)\n",
    "        won_players = [i+1 for i, j in enumerate(utilities) if j == max_value]\n",
    "        if len(won_players)==1:\n",
    "            print(\"Game Won by Player \" + str(won_players[0]))\n",
    "        else:\n",
    "            won_players_ints = [str(i) for i in won_players]\n",
    "            print(\"Game Won by Players \" + (\", \".join(won_players_ints)))\n",
    "        break\n",
    "    temp_player = player\n",
    "    print('=='*20)"
   ]
  },
  {
   "cell_type": "code",
   "execution_count": null,
   "metadata": {},
   "outputs": [],
   "source": []
  }
 ],
 "metadata": {
  "interpreter": {
   "hash": "6f6adeb9337db19aad41a380a31ecf85cc9e3a3017d6b71e8266c0af43496d75"
  },
  "kernelspec": {
   "display_name": "Python 3.9.5 64-bit ('res': conda)",
   "language": "python",
   "name": "python3"
  },
  "language_info": {
   "codemirror_mode": {
    "name": "ipython",
    "version": 3
   },
   "file_extension": ".py",
   "mimetype": "text/x-python",
   "name": "python",
   "nbconvert_exporter": "python",
   "pygments_lexer": "ipython3",
   "version": "3.9.5"
  },
  "orig_nbformat": 4
 },
 "nbformat": 4,
 "nbformat_minor": 2
}
