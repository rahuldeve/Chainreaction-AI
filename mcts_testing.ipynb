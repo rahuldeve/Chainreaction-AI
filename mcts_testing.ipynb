{
 "cells": [
  {
   "cell_type": "code",
   "execution_count": 1,
   "metadata": {},
   "outputs": [],
   "source": [
    "import random\n",
    "import math\n",
    "import numba\n",
    "from copy import deepcopy\n",
    "\n",
    "from chainreaction.game import *\n",
    "from chainreaction.positions import *\n",
    "from chainreaction.board import *\n",
    "from chainreaction.mcts import *\n",
    "from chainreaction.four_players import *"
   ]
  },
  {
   "cell_type": "code",
   "execution_count": 2,
   "metadata": {},
   "outputs": [],
   "source": [
    "%load_ext line_profiler\n",
    "%load_ext Cython"
   ]
  },
  {
   "cell_type": "code",
   "execution_count": 3,
   "metadata": {},
   "outputs": [],
   "source": [
    "def next_viable_player(player, utilities):\n",
    "    next_player = player.next_player()\n",
    "    while utilities[next_player.get_zero_indexed_player_idx()] == 0:\n",
    "        next_player = next_player.next_player()\n",
    "\n",
    "    return next_player\n",
    "\n",
    "def get_scores(state):\n",
    "    utilities = board_utility(state.atom_type)\n",
    "    scores = utilities / np.sum(utilities)\n",
    "    assert np.max(scores) <= 1.0\n",
    "    return scores"
   ]
  },
  {
   "cell_type": "code",
   "execution_count": 4,
   "metadata": {},
   "outputs": [],
   "source": [
    "def mcts_step(state, player):\n",
    "    # make sure we are calling the right type of mcts node\n",
    "    # maybe handle it in base mcts node class\n",
    "    root = MCTSNormalNode(state, parent=None, parent_action=None, player=player)\n",
    "    return None, root.best_action().parent_action"
   ]
  },
  {
   "cell_type": "code",
   "execution_count": 5,
   "metadata": {},
   "outputs": [],
   "source": [
    "def simulate(state):\n",
    "    player = FourPlayers.P1\n",
    "    temp_player = player\n",
    "    moves_count = 0\n",
    "    while True:\n",
    "        _, move = mcts_step(state.get_copy(), deepcopy(player))\n",
    "        moves_count += 1\n",
    "        print(f'{player} placing on {move}')\n",
    "        state, player, utilities, terminal = game_step(state, player, move)\n",
    "        print(\"New State:\")\n",
    "        print(format_board(state))\n",
    "        if terminal and moves_count>4:\n",
    "            max_value = max(utilities)\n",
    "            won_players = [i+1 for i, j in enumerate(utilities) if j == max_value]\n",
    "            if len(won_players)==1:\n",
    "                print(\"Game Won by Player \" + str(won_players[0]))\n",
    "            else:\n",
    "                won_players_ints = [str(i) for i in won_players]\n",
    "                print(\"Game Won by Players \" + (\", \".join(won_players_ints)))\n",
    "            break\n",
    "        temp_player = player\n",
    "        print('=='*20)"
   ]
  },
  {
   "cell_type": "code",
   "execution_count": 8,
   "metadata": {},
   "outputs": [],
   "source": [
    "w, h = 3, 3\n",
    "state = Board(w, h)\n",
    "state.place_atom(0, 0, FourPlayers.P1.value)\n",
    "state.place_atom(0, 2, FourPlayers.P2.value)\n",
    "state.place_atom(2, 0, FourPlayers.P34.value)\n",
    "state.place_atom(2, 2, FourPlayers.P34.value)"
   ]
  },
  {
   "cell_type": "code",
   "execution_count": 7,
   "metadata": {},
   "outputs": [
    {
     "name": "stdout",
     "output_type": "stream",
     "text": [
      "FourPlayers.P1 placing on (2, 1)\n",
      "New State:\n",
      "[['1-P1' '----' '1-P2']\n",
      " ['----' '----' '----']\n",
      " ['1-P34' '1-P1' '1-P34']]\n",
      "========================================\n",
      "FourPlayers.P2 placing on (1, 2)\n",
      "New State:\n",
      "[['1-P1' '----' '1-P2']\n",
      " ['----' '----' '1-P2']\n",
      " ['1-P34' '1-P1' '1-P34']]\n",
      "========================================\n",
      "FourPlayers.P3 placing on (2, 2)\n",
      "New State:\n",
      "[['1-P1' '----' '1-P2']\n",
      " ['----' '----' '2-P34']\n",
      " ['1-P34' '2-P34' '----']]\n",
      "========================================\n",
      "FourPlayers.P4 placing on (2, 2)\n",
      "New State:\n",
      "[['1-P1' '----' '1-P2']\n",
      " ['----' '----' '2-P34']\n",
      " ['1-P34' '2-P34' '1-P4']]\n",
      "========================================\n",
      "FourPlayers.P1 placing on (1, 1)\n",
      "New State:\n",
      "[['1-P1' '----' '1-P2']\n",
      " ['----' '1-P1' '2-P34']\n",
      " ['1-P34' '2-P34' '1-P4']]\n",
      "========================================\n",
      "FourPlayers.P2 placing on (1, 0)\n",
      "New State:\n",
      "[['1-P1' '----' '1-P2']\n",
      " ['1-P2' '1-P1' '2-P34']\n",
      " ['1-P34' '2-P34' '1-P4']]\n",
      "========================================\n",
      "FourPlayers.P3 placing on (2, 1)\n",
      "New State:\n",
      "[['1-P1' '----' '1-P2']\n",
      " ['1-P2' '1-P1' '2-P34']\n",
      " ['1-P34' '2-P3' '1-P4']]\n",
      "========================================\n",
      "FourPlayers.P4 placing on (2, 2)\n",
      "New State:\n",
      "[['1-P1' '1-P4' '----']\n",
      " ['2-P4' '3-P4' '2-P4']\n",
      " ['----' '2-P4' '----']]\n",
      "========================================\n",
      "FourPlayers.P1 placing on (2, 2)\n",
      "New State:\n",
      "[['1-P1' '1-P4' '----']\n",
      " ['2-P4' '3-P4' '2-P4']\n",
      " ['----' '2-P4' '1-P1']]\n",
      "========================================\n",
      "FourPlayers.P4 placing on (2, 1)\n",
      "New State:\n",
      "[['2-P4' '2-P4' '1-P4']\n",
      " ['----' '2-P4' '1-P4']\n",
      " ['2-P4' '2-P4' '----']]\n",
      "Game Won by Player 4\n"
     ]
    }
   ],
   "source": [
    "simulate(state)"
   ]
  },
  {
   "cell_type": "code",
   "execution_count": 9,
   "metadata": {},
   "outputs": [
    {
     "name": "stdout",
     "output_type": "stream",
     "text": [
      "FourPlayers.P1 placing on (1, 2)\n",
      "New State:\n",
      "[['1-P1' '----' '1-P2']\n",
      " ['----' '----' '1-P1']\n",
      " ['1-P34' '----' '1-P34']]\n",
      "========================================\n",
      "FourPlayers.P2 placing on (2, 1)\n",
      "New State:\n",
      "[['1-P1' '----' '1-P2']\n",
      " ['----' '----' '1-P1']\n",
      " ['1-P34' '1-P2' '1-P34']]\n",
      "========================================\n",
      "FourPlayers.P3 placing on (2, 2)\n",
      "New State:\n",
      "[['1-P1' '----' '1-P2']\n",
      " ['----' '----' '2-P34']\n",
      " ['1-P34' '2-P34' '----']]\n",
      "========================================\n",
      "FourPlayers.P4 placing on (1, 2)\n",
      "New State:\n",
      "[['1-P1' '1-P34' '----']\n",
      " ['----' '1-P34' '1-P34']\n",
      " ['1-P34' '2-P34' '1-P34']]\n",
      "========================================\n",
      "FourPlayers.P1 placing on (1, 0)\n",
      "New State:\n",
      "[['1-P1' '1-P34' '----']\n",
      " ['1-P1' '1-P34' '1-P34']\n",
      " ['1-P34' '2-P34' '1-P34']]\n",
      "========================================\n",
      "FourPlayers.P3 placing on (2, 1)\n",
      "New State:\n",
      "[['1-P1' '1-P34' '----']\n",
      " ['2-P34' '2-P34' '2-P34']\n",
      " ['----' '2-P34' '----']]\n",
      "========================================\n",
      "FourPlayers.P4 placing on (0, 2)\n",
      "New State:\n",
      "[['1-P1' '1-P34' '1-P4']\n",
      " ['2-P34' '2-P34' '2-P34']\n",
      " ['----' '2-P34' '----']]\n",
      "========================================\n",
      "FourPlayers.P1 placing on (2, 0)\n",
      "New State:\n",
      "[['1-P1' '1-P34' '1-P4']\n",
      " ['2-P34' '2-P34' '2-P34']\n",
      " ['1-P1' '2-P34' '----']]\n",
      "========================================\n",
      "FourPlayers.P3 placing on (2, 1)\n",
      "New State:\n",
      "[['2-P34' '2-P34' '2-P34']\n",
      " ['1-P34' '1-P34' '----']\n",
      " ['1-P34' '2-P34' '2-P34']]\n",
      "Game Won by Players 3, 4\n"
     ]
    },
    {
     "name": "stdout",
     "output_type": "stream",
     "text": [
      "Timer unit: 1e-07 s\n",
      "\n",
      "Total time: 37.8251 s\n",
      "File: c:\\Users\\rahul\\Documents\\GameAI530\\chainreaction\\mcts.py\n",
      "Function: _tree_policy at line 99\n",
      "\n",
      "Line #      Hits         Time  Per Hit   % Time  Line Contents\n",
      "==============================================================\n",
      "    99                                               def _tree_policy(self):\n",
      "   100     45000     280435.0      6.2      0.1          current_node = self\n",
      "   101    315186    1946923.0      6.2      0.5          while not current_node.is_state_terminal:\n",
      "   102    278751    2443477.0      8.8      0.6              if not current_node.is_fully_expanded():\n",
      "   103      8565   25419164.0   2967.8      6.7                  return current_node.expand()\n",
      "   104                                                       else:\n",
      "   105    270186  348058859.0   1288.2     92.0                  current_node = current_node.best_child()\n",
      "   106     36435     101967.0      2.8      0.0          return current_node"
     ]
    }
   ],
   "source": [
    "%lprun -f MCTSNormalNode._tree_policy simulate(state)"
   ]
  },
  {
   "cell_type": "code",
   "execution_count": 9,
   "metadata": {},
   "outputs": [
    {
     "name": "stdout",
     "output_type": "stream",
     "text": [
      "FourPlayers.P1 placing on (2, 1)\n",
      "New State:\n",
      "[['1-P1' '----' '1-P2']\n",
      " ['----' '----' '----']\n",
      " ['1-P34' '1-P1' '1-P34']]\n",
      "========================================\n",
      "FourPlayers.P2 placing on (1, 2)\n",
      "New State:\n",
      "[['1-P1' '----' '1-P2']\n",
      " ['----' '----' '1-P2']\n",
      " ['1-P34' '1-P1' '1-P34']]\n",
      "========================================\n",
      "FourPlayers.P3 placing on (2, 2)\n",
      "New State:\n",
      "[['1-P1' '----' '1-P2']\n",
      " ['----' '----' '2-P34']\n",
      " ['1-P34' '2-P34' '----']]\n",
      "========================================\n",
      "FourPlayers.P4 placing on (2, 2)\n",
      "New State:\n",
      "[['1-P1' '----' '1-P2']\n",
      " ['----' '----' '2-P34']\n",
      " ['1-P34' '2-P34' '1-P4']]\n",
      "========================================\n",
      "FourPlayers.P1 placing on (1, 1)\n",
      "New State:\n",
      "[['1-P1' '----' '1-P2']\n",
      " ['----' '1-P1' '2-P34']\n",
      " ['1-P34' '2-P34' '1-P4']]\n",
      "========================================\n",
      "FourPlayers.P2 placing on (1, 0)\n",
      "New State:\n",
      "[['1-P1' '----' '1-P2']\n",
      " ['1-P2' '1-P1' '2-P34']\n",
      " ['1-P34' '2-P34' '1-P4']]\n",
      "========================================\n",
      "FourPlayers.P3 placing on (2, 1)\n",
      "New State:\n",
      "[['1-P1' '1-P34' '----']\n",
      " ['2-P34' '3-P34' '1-P34']\n",
      " ['----' '2-P34' '1-P34']]\n",
      "========================================\n",
      "FourPlayers.P4 placing on (2, 2)\n",
      "New State:\n",
      "[['2-P4' '2-P4' '1-P4']\n",
      " ['----' '2-P4' '1-P4']\n",
      " ['2-P4' '2-P4' '----']]\n",
      "Game Won by Player 4\n"
     ]
    },
    {
     "name": "stdout",
     "output_type": "stream",
     "text": [
      "Timer unit: 1e-07 s\n",
      "\n",
      "Total time: 5.06943 s\n",
      "File: c:\\Users\\rahul\\Documents\\GameAI530\\chainreaction\\mcts.py\n",
      "Function: _tree_policy at line 99\n",
      "\n",
      "Line #      Hits         Time  Per Hit   % Time  Line Contents\n",
      "==============================================================\n",
      "    99                                               def _tree_policy(self):\n",
      "   100     40000     200289.0      5.0      0.4          current_node = self\n",
      "   101    308516    1248906.0      4.0      2.5          while not current_node.is_state_terminal:\n",
      "   102    269173    1934136.0      7.2      3.8              if not current_node.is_fully_expanded():\n",
      "   103       657    1699686.0   2587.0      3.4                  return current_node.expand()\n",
      "   104                                                       else:\n",
      "   105    268516   45509297.0    169.5     89.8                  current_node = current_node.best_child()\n",
      "   106     39343     101972.0      2.6      0.2          return current_node"
     ]
    }
   ],
   "source": [
    "%lprun -f MCTSNormalNode._tree_policy simulate(state)"
   ]
  },
  {
   "cell_type": "code",
   "execution_count": null,
   "metadata": {},
   "outputs": [],
   "source": []
  }
 ],
 "metadata": {
  "interpreter": {
   "hash": "6f6adeb9337db19aad41a380a31ecf85cc9e3a3017d6b71e8266c0af43496d75"
  },
  "kernelspec": {
   "display_name": "Python 3.9.5 64-bit ('res': conda)",
   "language": "python",
   "name": "python3"
  },
  "language_info": {
   "codemirror_mode": {
    "name": "ipython",
    "version": 3
   },
   "file_extension": ".py",
   "mimetype": "text/x-python",
   "name": "python",
   "nbconvert_exporter": "python",
   "pygments_lexer": "ipython3",
   "version": "3.9.5"
  },
  "orig_nbformat": 4
 },
 "nbformat": 4,
 "nbformat_minor": 2
}
