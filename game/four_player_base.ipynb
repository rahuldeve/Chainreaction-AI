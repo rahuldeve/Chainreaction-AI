{
 "cells": [
  {
   "cell_type": "code",
   "execution_count": 1,
   "metadata": {},
   "outputs": [],
   "source": [
    "import numpy as np\n",
    "from enum import Enum, IntEnum, auto\n",
    "import typing\n",
    "\n",
    "import random\n",
    "import math\n",
    "import numba\n",
    "from copy import deepcopy\n",
    "\n",
    "from minimax import *\n",
    "from game import *\n",
    "# from misc import *\n",
    "from positions import *\n",
    "from three_players import *\n",
    "from board import *\n",
    "from four_players import *"
   ]
  },
  {
   "cell_type": "code",
   "execution_count": 2,
   "metadata": {},
   "outputs": [],
   "source": [
    "# %load_ext line_profiler"
   ]
  },
  {
   "cell_type": "code",
   "execution_count": 21,
   "metadata": {},
   "outputs": [
    {
     "name": "stdout",
     "output_type": "stream",
     "text": [
      "Initial State:\n",
      "[['1-P1' '----' '1-P2']\n",
      " ['----' '----' '----']\n",
      " ['1-P34' '----' '1-P34']]\n"
     ]
    }
   ],
   "source": [
    "w, h = 3, 3\n",
    "state = Board(w, h)\n",
    "state.place_atom(0, 0, FourPlayers.P1.value)\n",
    "state.place_atom(0, 2, FourPlayers.P2.value)\n",
    "state.place_atom(2, 0, FourPlayers.P34.value)\n",
    "state.place_atom(2, 2, FourPlayers.P34.value)\n",
    "moves_count = 0\n",
    "print(\"Initial State:\")\n",
    "print(format_board(state))"
   ]
  },
  {
   "cell_type": "code",
   "execution_count": 23,
   "metadata": {
    "scrolled": false
   },
   "outputs": [
    {
     "name": "stdout",
     "output_type": "stream",
     "text": [
      "FourPlayers.P1 placing on (0, 0)\n",
      "New State:\n",
      "[['----' '1-P1' '1-P2']\n",
      " ['1-P1' '----' '----']\n",
      " ['1-P34' '----' '1-P34']]\n",
      "========================================\n",
      "FourPlayers.P2 placing on (0, 0)\n",
      "New State:\n",
      "[['1-P2' '1-P1' '1-P2']\n",
      " ['1-P1' '----' '----']\n",
      " ['1-P34' '----' '1-P34']]\n",
      "========================================\n",
      "FourPlayers.P3 placing on (1, 1)\n",
      "New State:\n",
      "[['1-P2' '1-P1' '1-P2']\n",
      " ['1-P1' '1-P3' '----']\n",
      " ['1-P34' '----' '1-P34']]\n",
      "========================================\n",
      "FourPlayers.P4 placing on (2, 2)\n",
      "New State:\n",
      "[['1-P2' '1-P1' '1-P2']\n",
      " ['1-P1' '1-P3' '1-P34']\n",
      " ['1-P34' '1-P34' '----']]\n",
      "========================================\n",
      "FourPlayers.P1 placing on (0, 1)\n",
      "New State:\n",
      "[['1-P2' '2-P1' '1-P2']\n",
      " ['1-P1' '1-P3' '1-P34']\n",
      " ['1-P34' '1-P34' '----']]\n",
      "========================================\n",
      "FourPlayers.P2 placing on (0, 0)\n",
      "New State:\n",
      "[['1-P2' '1-P2' '----']\n",
      " ['2-P2' '2-P2' '2-P2']\n",
      " ['1-P34' '1-P34' '----']]\n",
      "========================================\n",
      "FourPlayers.P3 placing on (0, 2)\n",
      "New State:\n",
      "[['1-P2' '1-P2' '1-P3']\n",
      " ['2-P2' '2-P2' '2-P2']\n",
      " ['1-P34' '1-P34' '----']]\n",
      "========================================\n",
      "FourPlayers.P4 placing on (2, 0)\n",
      "New State:\n",
      "[['----' '2-P34' '1-P3']\n",
      " ['1-P34' '3-P34' '2-P2']\n",
      " ['1-P34' '2-P34' '----']]\n",
      "========================================\n",
      "FourPlayers.P2 placing on (0, 0)\n",
      "New State:\n",
      "[['1-P2' '2-P34' '1-P3']\n",
      " ['1-P34' '3-P34' '2-P2']\n",
      " ['1-P34' '2-P34' '----']]\n",
      "========================================\n",
      "FourPlayers.P3 placing on (2, 1)\n",
      "New State:\n",
      "[['2-P34' '----' '2-P34']\n",
      " ['2-P34' '1-P34' '3-P34']\n",
      " ['2-P34' '1-P34' '1-P34']]\n",
      "Game Won by Players 3,4\n"
     ]
    }
   ],
   "source": [
    "player = FourPlayers.P1\n",
    "temp_player = player\n",
    "while True:\n",
    "    _, move = minimax_step(state.get_copy(), deepcopy(player), 0)\n",
    "    moves_count += 1\n",
    "    print(f'{player} placing on {move}')\n",
    "    state, player, utilities, terminal = game_step(state, player, move)\n",
    "    print(\"New State:\")\n",
    "    print(format_board(state))\n",
    "    if terminal and moves_count>4:\n",
    "        max_value = max(utilities)\n",
    "        won_players = [i+1 for i, j in enumerate(utilities) if j == max_value]\n",
    "        if len(won_players)==1:\n",
    "            print(\"Game Won by Player \" + str(won_players[0]))\n",
    "        else:\n",
    "            won_players_ints = [str(i) for i in won_players]\n",
    "            print(\"Game Won by Players \" + (\", \".join(won_players_ints)))\n",
    "        break\n",
    "    temp_player = player\n",
    "    print('=='*20)"
   ]
  },
  {
   "cell_type": "code",
   "execution_count": null,
   "metadata": {},
   "outputs": [],
   "source": []
  }
 ],
 "metadata": {
  "interpreter": {
   "hash": "6f6adeb9337db19aad41a380a31ecf85cc9e3a3017d6b71e8266c0af43496d75"
  },
  "kernelspec": {
   "display_name": "Python 3",
   "language": "python",
   "name": "python3"
  },
  "language_info": {
   "codemirror_mode": {
    "name": "ipython",
    "version": 3
   },
   "file_extension": ".py",
   "mimetype": "text/x-python",
   "name": "python",
   "nbconvert_exporter": "python",
   "pygments_lexer": "ipython3",
   "version": "3.8.5"
  }
 },
 "nbformat": 4,
 "nbformat_minor": 2
}
