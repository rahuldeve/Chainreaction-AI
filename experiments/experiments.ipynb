{
 "cells": [
  {
   "cell_type": "code",
   "execution_count": 1,
   "metadata": {},
   "outputs": [],
   "source": [
    "import numpy as np\n",
    "from enum import Enum, IntEnum, auto\n",
    "import typing\n",
    "\n",
    "from multiprocessing import Pool\n",
    "import random\n",
    "import math\n",
    "import numba\n",
    "from copy import deepcopy\n",
    "\n",
    "from chainreaction.game import *\n",
    "from chainreaction.positions import *\n",
    "from chainreaction.board import *\n",
    "from chainreaction.minimax import *\n",
    "from chainreaction.four_players import *\n",
    "\n",
    "from tqdm.notebook import tqdm"
   ]
  },
  {
   "cell_type": "code",
   "execution_count": 2,
   "metadata": {},
   "outputs": [],
   "source": [
    "def get_fresh_board():\n",
    "    w, h = 3, 3\n",
    "    state = Board(w, h)\n",
    "    state.place_atom(0, 0, FourPlayers.P1.value)\n",
    "    state.place_atom(0, 2, FourPlayers.P2.value)\n",
    "    state.place_atom(2, 0, FourPlayers.P34.value)\n",
    "    state.place_atom(2, 2, FourPlayers.P34.value)\n",
    "    return state\n"
   ]
  },
  {
   "cell_type": "code",
   "execution_count": 5,
   "metadata": {},
   "outputs": [],
   "source": [
    "def simulate_game(n=0):\n",
    "    state = get_fresh_board()\n",
    "    history = []\n",
    "\n",
    "\n",
    "    player = FourPlayers.P1\n",
    "    temp_player = player\n",
    "    moves_count = 0\n",
    "    while True:\n",
    "        before = state.get_copy()\n",
    "        curr_player = deepcopy(player)\n",
    "        _, move = minimax_step(state.get_copy(), deepcopy(player), 0)\n",
    "        moves_count += 1\n",
    "        print(f'{player} placing on {move}')\n",
    "        state, player, utilities, terminal = game_step(state, player, move)\n",
    "        print(\"New State:\")\n",
    "        print(format_board(state))\n",
    "        after = state.get_copy()\n",
    "        history.append((before, after, curr_player))\n",
    "\n",
    "        if terminal and moves_count>4:\n",
    "            max_value = max(utilities)\n",
    "            won_players = [i+1 for i, j in enumerate(utilities) if j == max_value]\n",
    "            # if len(won_players)==1:\n",
    "            #     print(\"Game Won by Player \" + str(won_players[0]))\n",
    "            # else:\n",
    "            #     won_players_ints = [str(i) for i in won_players]\n",
    "            #     print(\"Game Won by Players \" + (\", \".join(won_players_ints)))\n",
    "            break\n",
    "\n",
    "        temp_player = player\n",
    "        print('=='*20)\n",
    "    \n",
    "    return history"
   ]
  },
  {
   "cell_type": "code",
   "execution_count": 9,
   "metadata": {},
   "outputs": [
    {
     "name": "stdout",
     "output_type": "stream",
     "text": [
      "FourPlayers.P1 placing on (0, 0)\n",
      "New State:\n",
      "[['----' '1-P1' '1-P2']\n",
      " ['1-P1' '----' '----']\n",
      " ['1-P34' '----' '1-P34']]\n",
      "========================================\n",
      "FourPlayers.P2 placing on (0, 0)\n",
      "New State:\n",
      "[['1-P2' '1-P1' '1-P2']\n",
      " ['1-P1' '----' '----']\n",
      " ['1-P34' '----' '1-P34']]\n",
      "========================================\n",
      "FourPlayers.P3 placing on (1, 1)\n",
      "New State:\n",
      "[['1-P2' '1-P1' '1-P2']\n",
      " ['1-P1' '1-P3' '----']\n",
      " ['1-P34' '----' '1-P34']]\n",
      "========================================\n",
      "FourPlayers.P4 placing on (2, 2)\n",
      "New State:\n",
      "[['1-P2' '1-P1' '1-P2']\n",
      " ['1-P1' '1-P3' '1-P34']\n",
      " ['1-P34' '1-P34' '----']]\n",
      "========================================\n",
      "FourPlayers.P1 placing on (0, 1)\n",
      "New State:\n",
      "[['1-P2' '2-P1' '1-P2']\n",
      " ['1-P1' '1-P3' '1-P34']\n",
      " ['1-P34' '1-P34' '----']]\n",
      "========================================\n",
      "FourPlayers.P2 placing on (0, 0)\n",
      "New State:\n",
      "[['1-P2' '1-P2' '----']\n",
      " ['2-P2' '2-P2' '2-P2']\n",
      " ['1-P34' '1-P34' '----']]\n",
      "========================================\n",
      "FourPlayers.P3 placing on (0, 2)\n",
      "New State:\n",
      "[['1-P2' '1-P2' '1-P3']\n",
      " ['2-P2' '2-P2' '2-P2']\n",
      " ['1-P34' '1-P34' '----']]\n",
      "========================================\n",
      "FourPlayers.P4 placing on (2, 0)\n",
      "New State:\n",
      "[['----' '2-P34' '1-P3']\n",
      " ['1-P34' '3-P34' '2-P2']\n",
      " ['1-P34' '2-P34' '----']]\n",
      "========================================\n",
      "FourPlayers.P2 placing on (0, 0)\n",
      "New State:\n",
      "[['1-P2' '2-P34' '1-P3']\n",
      " ['1-P34' '3-P34' '2-P2']\n",
      " ['1-P34' '2-P34' '----']]\n",
      "========================================\n",
      "FourPlayers.P3 placing on (2, 1)\n",
      "New State:\n",
      "[['2-P34' '----' '2-P34']\n",
      " ['2-P34' '1-P34' '3-P34']\n",
      " ['2-P34' '1-P34' '1-P34']]\n"
     ]
    }
   ],
   "source": [
    "a = simulate_game()"
   ]
  },
  {
   "cell_type": "markdown",
   "metadata": {},
   "source": [
    "Percentage team wins vs individual wins"
   ]
  },
  {
   "cell_type": "code",
   "execution_count": 9,
   "metadata": {},
   "outputs": [],
   "source": [
    "sims = [simulate_game() for _ in range(10)]"
   ]
  },
  {
   "cell_type": "code",
   "execution_count": 29,
   "metadata": {},
   "outputs": [],
   "source": [
    "def get_win_stats(simulations, player):\n",
    "    num_wins = 0\n",
    "    for history in simulations:\n",
    "        last_state = history[-1][1]\n",
    "        atom_type_board = last_state.atom_type\n",
    "        atom_type_board = atom_type_board[atom_type_board > 0]\n",
    "\n",
    "        atom_types = set([FourPlayers(i) for i in atom_type_board.flat])\n",
    "        if player in atom_types:\n",
    "            num_wins += 1\n",
    "\n",
    "    return num_wins\n"
   ]
  },
  {
   "cell_type": "code",
   "execution_count": 40,
   "metadata": {},
   "outputs": [],
   "source": [
    "def team_win_together_stats(simulations, team_players):\n",
    "    # this gives the total number of games that teamed up players has won as a team\n",
    "    # i.e, the last ball present in the board is a team ball\n",
    "    p1 = team_players[0]\n",
    "    p2 = team_players[1]\n",
    "    p_team = p1 | p2\n",
    "\n",
    "    return get_win_stats(simulations, p_team)\n",
    "\n",
    "\n",
    "def team_loose_together_stats(simulations, single_players):\n",
    "    p1 = single_players[0]\n",
    "    p2 = single_players[1]\n",
    "    return get_win_stats(simulations, p1) + get_win_stats(simulations, p2)\n",
    "\n",
    "def team_individual_only_win(simulations, team_players):\n",
    "    p1 = team_players[0]\n",
    "    p2 = team_players[1]\n",
    "    return get_win_stats(simulations, p1) + get_win_stats(simulations, p2)\n"
   ]
  },
  {
   "cell_type": "code",
   "execution_count": null,
   "metadata": {},
   "outputs": [],
   "source": [
    "def run_experiments():\n",
    "    sims_mcts = run\n"
   ]
  },
  {
   "cell_type": "code",
   "execution_count": null,
   "metadata": {},
   "outputs": [],
   "source": []
  },
  {
   "cell_type": "code",
   "execution_count": null,
   "metadata": {},
   "outputs": [],
   "source": []
  },
  {
   "cell_type": "code",
   "execution_count": null,
   "metadata": {},
   "outputs": [],
   "source": []
  },
  {
   "cell_type": "code",
   "execution_count": null,
   "metadata": {},
   "outputs": [],
   "source": []
  },
  {
   "cell_type": "code",
   "execution_count": null,
   "metadata": {},
   "outputs": [],
   "source": []
  },
  {
   "cell_type": "code",
   "execution_count": null,
   "metadata": {},
   "outputs": [],
   "source": []
  },
  {
   "cell_type": "code",
   "execution_count": 11,
   "metadata": {},
   "outputs": [],
   "source": [
    "num_simulations = 100\n",
    "ind_stats = [0, 0, 0, 0]\n",
    "team_stats = 0\n",
    "\n",
    "for history in sims:\n",
    "    # history = simulate_game()\n",
    "    last_state = history[-1][1]\n",
    "\n",
    "    utilities = board_utility(last_state.atom_type)\n",
    "    max_value = max(utilities)\n",
    "    won_players = [i+1 for i, j in enumerate(utilities) if j == max_value]\n",
    "    if len(won_players)==1:\n",
    "        player_id = won_players[0] - 1\n",
    "        ind_stats[player_id] = ind_stats[player_id] + 1\n",
    "    else:\n",
    "        team_stats += 1\n",
    "        # ind_stats[won_players[0] - 1] = ind_stats[won_players[0] - 1] + 1\n",
    "        # ind_stats[won_players[1] - 1] = ind_stats[won_players[1] - 1] + 1"
   ]
  },
  {
   "cell_type": "code",
   "execution_count": 12,
   "metadata": {},
   "outputs": [
    {
     "data": {
      "text/plain": [
       "([0, 1, 1, 0], 8)"
      ]
     },
     "execution_count": 12,
     "metadata": {},
     "output_type": "execute_result"
    }
   ],
   "source": [
    "ind_stats, team_stats"
   ]
  },
  {
   "cell_type": "code",
   "execution_count": null,
   "metadata": {},
   "outputs": [],
   "source": []
  }
 ],
 "metadata": {
  "interpreter": {
   "hash": "6f6adeb9337db19aad41a380a31ecf85cc9e3a3017d6b71e8266c0af43496d75"
  },
  "kernelspec": {
   "display_name": "Python 3.9.5 64-bit ('res': conda)",
   "language": "python",
   "name": "python3"
  },
  "language_info": {
   "codemirror_mode": {
    "name": "ipython",
    "version": 3
   },
   "file_extension": ".py",
   "mimetype": "text/x-python",
   "name": "python",
   "nbconvert_exporter": "python",
   "pygments_lexer": "ipython3",
   "version": "3.9.5"
  },
  "orig_nbformat": 4
 },
 "nbformat": 4,
 "nbformat_minor": 2
}
